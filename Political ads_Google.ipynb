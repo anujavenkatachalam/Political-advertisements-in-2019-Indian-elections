{
 "cells": [
  {
   "cell_type": "code",
   "execution_count": 1,
   "metadata": {},
   "outputs": [],
   "source": [
    "# Importing the requisite packages\n",
    "import pandas as pd\n",
    "import numpy as np\n",
    "import matplotlib.pyplot as plt"
   ]
  },
  {
   "cell_type": "markdown",
   "metadata": {},
   "source": [
    "#### Which state receives the most spending on political ads?"
   ]
  },
  {
   "cell_type": "code",
   "execution_count": 2,
   "metadata": {},
   "outputs": [],
   "source": [
    "# Screening the dataset and retaining the necessary variables\n",
    "df=pd.read_csv(\"google-political-ads-geo-spend.csv\")"
   ]
  },
  {
   "cell_type": "code",
   "execution_count": 3,
   "metadata": {},
   "outputs": [],
   "source": [
    "df=df[df[\"Country\"]==\"IN\"]"
   ]
  },
  {
   "cell_type": "code",
   "execution_count": 4,
   "metadata": {},
   "outputs": [],
   "source": [
    "df=df[[\"Country_Subdivision_Primary\",\"Spend_INR\"]]"
   ]
  },
  {
   "cell_type": "code",
   "execution_count": 5,
   "metadata": {},
   "outputs": [],
   "source": [
    "# Exporting the file to create a choropleth map on QGIS\n",
    "df.to_csv(\"ad_spend_by_state.csv\", index=False)"
   ]
  },
  {
   "cell_type": "markdown",
   "metadata": {},
   "source": [
    "#### Analysis of google ad spending during the 2019 General Elections"
   ]
  },
  {
   "cell_type": "code",
   "execution_count": 6,
   "metadata": {},
   "outputs": [],
   "source": [
    "# Importing the dataset that contains the total cost and total number of ads by advertiser - only using it for the names and ids of advertisers\n",
    "indian_advertisers=pd.read_csv(\"google-political-ads-advertiser-stats.csv\")"
   ]
  },
  {
   "cell_type": "code",
   "execution_count": 7,
   "metadata": {},
   "outputs": [],
   "source": [
    "# Screening out data for other countries\n",
    "indian_advertisers=indian_advertisers[indian_advertisers[\"Regions\"]==\"IN\"]"
   ]
  },
  {
   "cell_type": "code",
   "execution_count": 8,
   "metadata": {},
   "outputs": [],
   "source": [
    "# Retaining the Advertiser IDs and Names for India - not using spending data, as it covers non-election periods\n",
    "indian_advertisers=indian_advertisers[[\"Advertiser_ID\",\"Advertiser_Name\"]]"
   ]
  },
  {
   "cell_type": "code",
   "execution_count": 9,
   "metadata": {},
   "outputs": [],
   "source": [
    "# Importing a dataset that contains data on expenditure per week \n",
    "weekly_spend=pd.read_csv(\"google-political-ads-advertiser-weekly-spend.csv\")"
   ]
  },
  {
   "cell_type": "code",
   "execution_count": 10,
   "metadata": {},
   "outputs": [],
   "source": [
    "# Only retaining Indian advertisers\n",
    "weekly_spend=weekly_spend.merge(indian_advertisers, how=\"right\")"
   ]
  },
  {
   "cell_type": "code",
   "execution_count": 11,
   "metadata": {},
   "outputs": [],
   "source": [
    "# Screening out advertisements that were not in the election period\n",
    "weekly_spend[\"Week_Start_Date\"]=pd.to_datetime(weekly_spend[\"Week_Start_Date\"], format=\"%Y-%m-%d\")"
   ]
  },
  {
   "cell_type": "code",
   "execution_count": 12,
   "metadata": {},
   "outputs": [],
   "source": [
    "model_code=pd.to_datetime(\"10-03-2019\", format=\"%d-%m-%Y\")\n",
    "\n",
    "# Drooping advertisements that were made after the election results were declared on 23-May\n",
    "upper_date_limit=pd.to_datetime(\"23-05-2019\", format=\"%d-%m-%Y\")\n",
    "weekly_spend=weekly_spend[(weekly_spend[\"Week_Start_Date\"]<upper_date_limit)]"
   ]
  },
  {
   "cell_type": "code",
   "execution_count": 13,
   "metadata": {},
   "outputs": [],
   "source": [
    "# Dropping unnecessary variables\n",
    "weekly_spend=weekly_spend[[\"Advertiser_ID\", \"Advertiser_Name\", \"Week_Start_Date\" ,\"Spend_INR\"]]"
   ]
  },
  {
   "cell_type": "code",
   "execution_count": 14,
   "metadata": {},
   "outputs": [],
   "source": [
    "# Exporting a file with the names of advertisers to a csv to manually map advertisers to NDA/UPA/Other\n",
    "party_map=pd.DataFrame(weekly_spend[\"Advertiser_Name\"].value_counts()).reset_index().drop(columns=[\"Advertiser_Name\"]).rename(columns={\"index\":\"Advertiser_Name\"})\n",
    "party_map.to_csv(\"advertiser_names.csv\", index=False)"
   ]
  },
  {
   "cell_type": "code",
   "execution_count": 15,
   "metadata": {},
   "outputs": [],
   "source": [
    "# Importing the mapped csv\n",
    "party_map=pd.read_csv(\"advertiser_names_completed.csv\")"
   ]
  },
  {
   "cell_type": "code",
   "execution_count": 16,
   "metadata": {},
   "outputs": [],
   "source": [
    "# Merging in alliance, and party information into the weekly spend data\n",
    "weekly_spend=weekly_spend.merge(party_map, on=\"Advertiser_Name\", how=\"left\")"
   ]
  },
  {
   "cell_type": "code",
   "execution_count": 17,
   "metadata": {},
   "outputs": [],
   "source": [
    "# There is one advertiser for two parties = AAP and TDP - Assigning individual party names after manually checking the videos \n",
    "## released in the specified week\n",
    "weekly_spend.loc[20,\"Party\"]=\"TDP\"\n",
    "weekly_spend.loc[21,\"Party\"]=\"TDP\"\n",
    "weekly_spend.loc[22,\"Party\"]=\"AAP\"\n",
    "weekly_spend.loc[22,\"Policy_violations\"]=0"
   ]
  },
  {
   "cell_type": "code",
   "execution_count": 18,
   "metadata": {},
   "outputs": [],
   "source": [
    "spend_share=pd.DataFrame(weekly_spend.groupby(by=\"Party\").Spend_INR.sum()).reset_index()"
   ]
  },
  {
   "cell_type": "code",
   "execution_count": 19,
   "metadata": {},
   "outputs": [],
   "source": [
    "# Total spend on election ads, and share of spending by political party\n",
    "spend_share[\"total_spend\"]=spend_share[\"Spend_INR\"].sum()"
   ]
  },
  {
   "cell_type": "code",
   "execution_count": 20,
   "metadata": {},
   "outputs": [],
   "source": [
    "spend_share[\"party_pct\"]=spend_share[\"Spend_INR\"]/spend_share[\"total_spend\"]*100"
   ]
  },
  {
   "cell_type": "code",
   "execution_count": 21,
   "metadata": {},
   "outputs": [],
   "source": [
    "# Excluding 16 advertisers whose ads have been removed due to policy violations and they cannot be mapped to a political party.\n",
    "# Excluding 2 advertisers who ads are apolitical\n",
    "\n",
    "weekly_spend=weekly_spend[(weekly_spend[\"Alliance\"]!=\"REMOVED\") & (weekly_spend[\"Alliance\"]!=\"NONE\")]"
   ]
  },
  {
   "cell_type": "markdown",
   "metadata": {},
   "source": [
    "#### Top parties by spending on Google Ads \n",
    "- BJP spent over 4 times the amount that INC spent\n",
    "- TDP, DMK spent almost twice more than INC\n",
    "- Top 6 parties"
   ]
  },
  {
   "cell_type": "code",
   "execution_count": 22,
   "metadata": {},
   "outputs": [],
   "source": [
    "total_spend=pd.DataFrame(weekly_spend.groupby(by=\"Party\").Spend_INR.sum().sort_values(ascending=False)).reset_index()\n",
    "\n",
    "total_spend.to_csv(\"spending.csv\", index=False)"
   ]
  },
  {
   "cell_type": "markdown",
   "metadata": {},
   "source": [
    "#### Top alliances by spending on Google Ads\n",
    "- NDA spent 75% more on Google ads than UPA\n",
    "- In fact, other parties - not affiliated to either NDA or UPA spent more than the UPA"
   ]
  },
  {
   "cell_type": "code",
   "execution_count": 23,
   "metadata": {},
   "outputs": [
    {
     "data": {
      "text/plain": [
       "Alliance\n",
       "NDA      124097750\n",
       "OTHER     78678750\n",
       "UPA       70794000\n",
       "Name: Spend_INR, dtype: int64"
      ]
     },
     "execution_count": 23,
     "metadata": {},
     "output_type": "execute_result"
    }
   ],
   "source": [
    "weekly_spend.groupby(by=\"Alliance\").Spend_INR.sum().sort_values(ascending=False)"
   ]
  },
  {
   "cell_type": "markdown",
   "metadata": {},
   "source": [
    "#### Policy violations\n",
    "- Google removed a total of 389 political ads posted during the elections\n",
    "- 187 of these cannot be linked to a political party (the videos have been removed, and we cannot link the advertiser to a political party)\n",
    "- INC had the most number of policy violations - 101, followed by TDP, YSRCP, BJP - 28"
   ]
  },
  {
   "cell_type": "code",
   "execution_count": 24,
   "metadata": {},
   "outputs": [
    {
     "name": "stdout",
     "output_type": "stream",
     "text": [
      "Google removed a total of 389 political ads posted during the elections.\n"
     ]
    }
   ],
   "source": [
    "print(f\"Google removed a total of {party_map.Policy_violations.sum():.0f} political ads posted during the elections.\")"
   ]
  },
  {
   "cell_type": "code",
   "execution_count": 25,
   "metadata": {},
   "outputs": [],
   "source": [
    "violations_party=pd.DataFrame(party_map.groupby(by=\"Party\").Policy_violations.sum().sort_values(ascending=False)).reset_index()"
   ]
  },
  {
   "cell_type": "code",
   "execution_count": 26,
   "metadata": {},
   "outputs": [],
   "source": [
    "violations_party[\"Party\"]=violations_party[\"Party\"].str.replace(\"TDP, AAP\", \"TDP\")"
   ]
  },
  {
   "cell_type": "code",
   "execution_count": 27,
   "metadata": {},
   "outputs": [],
   "source": [
    "# Excluding unidentified advertisers\n",
    "violations_party=violations_party[(violations_party[\"Party\"]!=\"REMOVED\")&(violations_party[\"Party\"]!=\"NONE\")]"
   ]
  },
  {
   "cell_type": "code",
   "execution_count": 28,
   "metadata": {
    "scrolled": true
   },
   "outputs": [],
   "source": [
    "violations_party=violations_party.groupby(by=\"Party\").sum().reset_index().sort_values(by=\"Policy_violations\", ascending=False)"
   ]
  },
  {
   "cell_type": "code",
   "execution_count": 29,
   "metadata": {},
   "outputs": [
    {
     "data": {
      "text/html": [
       "<div>\n",
       "<style scoped>\n",
       "    .dataframe tbody tr th:only-of-type {\n",
       "        vertical-align: middle;\n",
       "    }\n",
       "\n",
       "    .dataframe tbody tr th {\n",
       "        vertical-align: top;\n",
       "    }\n",
       "\n",
       "    .dataframe thead th {\n",
       "        text-align: right;\n",
       "    }\n",
       "</style>\n",
       "<table border=\"1\" class=\"dataframe\">\n",
       "  <thead>\n",
       "    <tr style=\"text-align: right;\">\n",
       "      <th></th>\n",
       "      <th>Party</th>\n",
       "      <th>Policy_violations</th>\n",
       "    </tr>\n",
       "  </thead>\n",
       "  <tbody>\n",
       "    <tr>\n",
       "      <th>4</th>\n",
       "      <td>INC</td>\n",
       "      <td>101.0</td>\n",
       "    </tr>\n",
       "    <tr>\n",
       "      <th>7</th>\n",
       "      <td>TDP</td>\n",
       "      <td>35.0</td>\n",
       "    </tr>\n",
       "    <tr>\n",
       "      <th>8</th>\n",
       "      <td>YSRCP</td>\n",
       "      <td>31.0</td>\n",
       "    </tr>\n",
       "    <tr>\n",
       "      <th>2</th>\n",
       "      <td>BJP</td>\n",
       "      <td>28.0</td>\n",
       "    </tr>\n",
       "    <tr>\n",
       "      <th>3</th>\n",
       "      <td>DMK</td>\n",
       "      <td>6.0</td>\n",
       "    </tr>\n",
       "    <tr>\n",
       "      <th>1</th>\n",
       "      <td>AITC</td>\n",
       "      <td>1.0</td>\n",
       "    </tr>\n",
       "    <tr>\n",
       "      <th>0</th>\n",
       "      <td>AIADMK</td>\n",
       "      <td>0.0</td>\n",
       "    </tr>\n",
       "    <tr>\n",
       "      <th>5</th>\n",
       "      <td>JSP</td>\n",
       "      <td>0.0</td>\n",
       "    </tr>\n",
       "    <tr>\n",
       "      <th>6</th>\n",
       "      <td>MNM</td>\n",
       "      <td>0.0</td>\n",
       "    </tr>\n",
       "  </tbody>\n",
       "</table>\n",
       "</div>"
      ],
      "text/plain": [
       "    Party  Policy_violations\n",
       "4     INC              101.0\n",
       "7     TDP               35.0\n",
       "8   YSRCP               31.0\n",
       "2     BJP               28.0\n",
       "3     DMK                6.0\n",
       "1    AITC                1.0\n",
       "0  AIADMK                0.0\n",
       "5     JSP                0.0\n",
       "6     MNM                0.0"
      ]
     },
     "execution_count": 29,
     "metadata": {},
     "output_type": "execute_result"
    }
   ],
   "source": [
    "violations_party"
   ]
  },
  {
   "cell_type": "markdown",
   "metadata": {},
   "source": [
    "#### Ad-level characteristics"
   ]
  },
  {
   "cell_type": "code",
   "execution_count": 30,
   "metadata": {},
   "outputs": [
    {
     "name": "stderr",
     "output_type": "stream",
     "text": [
      "C:\\Users\\Anuja\\AppData\\Local\\Programs\\Python\\Python37-32\\lib\\site-packages\\IPython\\core\\interactiveshell.py:3049: DtypeWarning: Columns (11) have mixed types. Specify dtype option on import or set low_memory=False.\n",
      "  interactivity=interactivity, compiler=compiler, result=result)\n"
     ]
    }
   ],
   "source": [
    "# Importing data on all ads and their creative stats\n",
    "creative_stats=pd.read_csv(\"google-political-ads-creative-stats.csv\")"
   ]
  },
  {
   "cell_type": "code",
   "execution_count": 31,
   "metadata": {},
   "outputs": [],
   "source": [
    "# Only retaining ads posted in India\n",
    "creative_stats=creative_stats[creative_stats[\"Regions\"]==\"IN\"]"
   ]
  },
  {
   "cell_type": "code",
   "execution_count": 32,
   "metadata": {},
   "outputs": [],
   "source": [
    "# Excluding unnecessary variables\n",
    "creative_stats=creative_stats[[\"Ad_ID\",\"Ad_Type\",\"Advertiser_ID\",\"Advertiser_Name\",\"Date_Range_Start\",\"Date_Range_End\",\"Num_of_Days\",\"Impressions\"]]"
   ]
  },
  {
   "cell_type": "code",
   "execution_count": 33,
   "metadata": {},
   "outputs": [],
   "source": [
    "# Excluding ads that were posted outside the election period\n",
    "creative_stats[\"Date_Range_Start\"]=pd.to_datetime(creative_stats[\"Date_Range_Start\"], format=\"%Y-%m-%d\")\n",
    "creative_stats[\"Date_Range_End\"]=pd.to_datetime(creative_stats[\"Date_Range_End\"], format=\"%Y-%m-%d\")"
   ]
  },
  {
   "cell_type": "code",
   "execution_count": 34,
   "metadata": {},
   "outputs": [],
   "source": [
    "creative_stats=creative_stats[(creative_stats[\"Date_Range_Start\"]<upper_date_limit)]"
   ]
  },
  {
   "cell_type": "code",
   "execution_count": 35,
   "metadata": {},
   "outputs": [],
   "source": [
    "# Creating a master list of ads that were posted during the election period, and that are assigned a political party\n",
    "ads_master=creative_stats.merge(party_map, how=\"left\")"
   ]
  },
  {
   "cell_type": "code",
   "execution_count": 36,
   "metadata": {},
   "outputs": [
    {
     "data": {
      "text/plain": [
       "Party\n",
       "AIADMK        37\n",
       "AITC         315\n",
       "BJP         9897\n",
       "DMK          266\n",
       "INC          615\n",
       "JSP            2\n",
       "MNM            2\n",
       "NONE           2\n",
       "REMOVED      185\n",
       "TDP          192\n",
       "TDP, AAP     124\n",
       "YSRCP        291\n",
       "Name: Ad_ID, dtype: int64"
      ]
     },
     "execution_count": 36,
     "metadata": {},
     "output_type": "execute_result"
    }
   ],
   "source": [
    "# Total number of ads\n",
    "ads_master.groupby(by=\"Party\").Ad_ID.count()"
   ]
  },
  {
   "cell_type": "code",
   "execution_count": 37,
   "metadata": {},
   "outputs": [],
   "source": [
    "ads_master=ads_master[(ads_master[\"Party\"]!=\"REMOVED\") & (ads_master[\"Party\"]!=\"NONE\")]"
   ]
  },
  {
   "cell_type": "code",
   "execution_count": 38,
   "metadata": {},
   "outputs": [],
   "source": [
    "# Merging in targeting data\n",
    "target=pd.read_csv(\"google-political-ads-campaign-targeting.csv\")"
   ]
  },
  {
   "cell_type": "code",
   "execution_count": 39,
   "metadata": {},
   "outputs": [],
   "source": [
    "# Excluding advertisers that are not from India\n",
    "target=target.merge(indian_advertisers, how=\"right\")"
   ]
  },
  {
   "cell_type": "code",
   "execution_count": 40,
   "metadata": {},
   "outputs": [],
   "source": [
    "# The dataset is organised by campaign - reshaping it to an ad per row\n",
    "target[\"Ads_List_2\"]=target[\"Ads_List\"].str.split(\",\")"
   ]
  },
  {
   "cell_type": "code",
   "execution_count": 41,
   "metadata": {},
   "outputs": [],
   "source": [
    "target.reset_index(inplace=True)"
   ]
  },
  {
   "cell_type": "code",
   "execution_count": 42,
   "metadata": {},
   "outputs": [],
   "source": [
    "target=target.rename(columns={\"index\":\"uid\"})"
   ]
  },
  {
   "cell_type": "code",
   "execution_count": 43,
   "metadata": {},
   "outputs": [],
   "source": [
    "target_ads=pd.DataFrame(target[\"Ads_List_2\"].values.tolist())"
   ]
  },
  {
   "cell_type": "code",
   "execution_count": 44,
   "metadata": {},
   "outputs": [],
   "source": [
    "target_ads.reset_index(inplace=True)"
   ]
  },
  {
   "cell_type": "code",
   "execution_count": 45,
   "metadata": {},
   "outputs": [],
   "source": [
    "target_ads=target_ads.rename(columns={\"index\":\"uid\"})"
   ]
  },
  {
   "cell_type": "code",
   "execution_count": 46,
   "metadata": {},
   "outputs": [],
   "source": [
    "target_ads=target_ads.melt(id_vars=\"uid\", value_vars=list(range(0,159))).dropna().sort_values(by=\"uid\")"
   ]
  },
  {
   "cell_type": "code",
   "execution_count": 47,
   "metadata": {},
   "outputs": [],
   "source": [
    "target_ads=target_ads.drop(columns=[\"variable\"])"
   ]
  },
  {
   "cell_type": "code",
   "execution_count": 48,
   "metadata": {},
   "outputs": [],
   "source": [
    "target_ads=target_ads.rename(columns={\"value\":\"Ad_ID\"})"
   ]
  },
  {
   "cell_type": "code",
   "execution_count": 49,
   "metadata": {},
   "outputs": [],
   "source": [
    "target=target.merge(target_ads, on=\"uid\")"
   ]
  },
  {
   "cell_type": "code",
   "execution_count": 50,
   "metadata": {},
   "outputs": [],
   "source": [
    "target=target.drop(columns=[\"uid\",\"Campaign_ID\",\"Ads_List_2\",\"Ads_List\"])\n",
    "# This dataset now has all ads that were targeted for India (even those outside the election period) "
   ]
  },
  {
   "cell_type": "code",
   "execution_count": 51,
   "metadata": {},
   "outputs": [],
   "source": [
    "# Coding the target variables as binary\n",
    "target[\"Target_Age\"]=np.where(target[\"Age_Targeting\"]!=\"Not targeted\", 1,0)\n",
    "target[\"Target_Gender\"]=np.where(target[\"Gender_Targeting\"]!=\"Not targeted\", 1,0)\n",
    "target[\"Geo_Included\"]=np.where(target[\"Geo_Targeting_Included\"]!=\"Not targeted\", 1,0)\n",
    "target[\"Geo_Excluded\"]=np.where(target[\"Geo_Targeting_Excluded\"]!=\"Not targeted\",1,0)"
   ]
  },
  {
   "cell_type": "code",
   "execution_count": 52,
   "metadata": {},
   "outputs": [],
   "source": [
    "target[\"Target_Geo\"]=target[\"Geo_Included\"]+target[\"Geo_Excluded\"]"
   ]
  },
  {
   "cell_type": "code",
   "execution_count": 53,
   "metadata": {},
   "outputs": [],
   "source": [
    "target[\"Target_Geo\"]=np.where(target[\"Target_Geo\"]>0,1,0)"
   ]
  },
  {
   "cell_type": "code",
   "execution_count": 54,
   "metadata": {},
   "outputs": [],
   "source": [
    "## Retaining only the necessary variables\n",
    "target.columns\n",
    "target=target[[\"Advertiser_ID\",\"Advertiser_Name\",\"Ad_ID\",\"Target_Age\", \"Target_Gender\",\"Target_Geo\"]]"
   ]
  },
  {
   "cell_type": "code",
   "execution_count": 55,
   "metadata": {},
   "outputs": [],
   "source": [
    "# Merging it into the ads_master dataset, only retaining ads from the master list\n",
    "ads_master=ads_master.merge(target, how=\"left\")"
   ]
  },
  {
   "cell_type": "code",
   "execution_count": 56,
   "metadata": {},
   "outputs": [],
   "source": [
    "ads_master[\"Target_Age\"]=ads_master[\"Target_Age\"].fillna(0)\n",
    "ads_master[\"Target_Gender\"]=ads_master[\"Target_Gender\"].fillna(0)\n",
    "ads_master[\"Target_Geo\"]=ads_master[\"Target_Geo\"].fillna(0)"
   ]
  },
  {
   "cell_type": "code",
   "execution_count": 57,
   "metadata": {},
   "outputs": [],
   "source": [
    "ads_master[\"Whether_targetted\"]=ads_master[\"Target_Age\"]+ads_master[\"Target_Gender\"]+ads_master[\"Target_Geo\"]"
   ]
  },
  {
   "cell_type": "code",
   "execution_count": 58,
   "metadata": {},
   "outputs": [],
   "source": [
    "ads_master[\"Whether_targetted\"]=np.where(ads_master[\"Whether_targetted\"]>0,1,0)"
   ]
  },
  {
   "cell_type": "code",
   "execution_count": 59,
   "metadata": {},
   "outputs": [
    {
     "name": "stderr",
     "output_type": "stream",
     "text": [
      "C:\\Users\\Anuja\\AppData\\Local\\Programs\\Python\\Python37-32\\lib\\site-packages\\ipykernel_launcher.py:14: SettingWithCopyWarning: \n",
      "A value is trying to be set on a copy of a slice from a DataFrame.\n",
      "Try using .loc[row_indexer,col_indexer] = value instead\n",
      "\n",
      "See the caveats in the documentation: http://pandas.pydata.org/pandas-docs/stable/indexing.html#indexing-view-versus-copy\n",
      "  \n"
     ]
    }
   ],
   "source": [
    "# TDP and AAP had the same advertiser, so these ads are clubbed together as TDP, AAP - Assigning individual party names after\n",
    "## manually checking the videos\n",
    "\n",
    "tdp_aap=ads_master[ads_master[\"Party\"]==\"TDP, AAP\"]\n",
    "\n",
    "def party_assignment(date):\n",
    "    date1=pd.to_datetime(\"30-04-2019\", format=\"%d-%m-%Y\")\n",
    "    date2=pd.to_datetime(\"01-05-2019\", format=\"%d-%m-%Y\")\n",
    "    if (date==date1) or (date==date2):\n",
    "        return \"AAP\"\n",
    "    else:\n",
    "        return \"TDP\"\n",
    "\n",
    "tdp_aap[\"Party\"]=tdp_aap[\"Date_Range_Start\"].apply(party_assignment)"
   ]
  },
  {
   "cell_type": "code",
   "execution_count": 60,
   "metadata": {},
   "outputs": [],
   "source": [
    "ads_master_1=ads_master[ads_master[\"Party\"]!=\"TDP, AAP\"]"
   ]
  },
  {
   "cell_type": "code",
   "execution_count": 61,
   "metadata": {},
   "outputs": [],
   "source": [
    "ads_master=ads_master_1.append(tdp_aap)"
   ]
  },
  {
   "cell_type": "code",
   "execution_count": 62,
   "metadata": {},
   "outputs": [],
   "source": [
    "# Generating a dataset with the following indicators - total number of ads, total number of ads targeted by each - age, gender \n",
    "# and geo, type of ad, and median number of days per ad. "
   ]
  },
  {
   "cell_type": "code",
   "execution_count": 63,
   "metadata": {},
   "outputs": [],
   "source": [
    "party_list=ads_master[\"Party\"].unique()"
   ]
  },
  {
   "cell_type": "code",
   "execution_count": 64,
   "metadata": {},
   "outputs": [],
   "source": [
    "# Ads targetted\n",
    "\n",
    "target_data=[]\n",
    "\n",
    "for party in party_list:\n",
    "    df=ads_master[ads_master[\"Party\"]==party]\n",
    "    target_info={}\n",
    "    target_info[\"Party\"]=party\n",
    "    try:\n",
    "         target_info[\"Ads_target\"]=df.groupby(by=\"Whether_targetted\").Ad_ID.count()[1]\n",
    "    except:\n",
    "        target_info[\"Ads_target\"]=0\n",
    "    target_data.append(target_info)\n",
    "\n",
    "all_targeted=pd.DataFrame(target_data)"
   ]
  },
  {
   "cell_type": "code",
   "execution_count": 65,
   "metadata": {},
   "outputs": [],
   "source": [
    "# Age targetted\n",
    "\n",
    "target_age_data=[]\n",
    "\n",
    "for party in party_list:\n",
    "    df=ads_master[ads_master[\"Party\"]==party]\n",
    "    target_age={}\n",
    "    target_age[\"Party\"]=party\n",
    "    try:\n",
    "         target_age[\"Age_target\"]=df.groupby(by=\"Target_Age\").Ad_ID.count()[1]\n",
    "    except:\n",
    "        target_age[\"Age_target\"]=0\n",
    "    target_age_data.append(target_age)\n",
    "\n",
    "age_targeted=pd.DataFrame(target_age_data)"
   ]
  },
  {
   "cell_type": "code",
   "execution_count": 66,
   "metadata": {},
   "outputs": [],
   "source": [
    "target_gender_data=[]\n",
    "\n",
    "for party in party_list:\n",
    "    df=ads_master[ads_master[\"Party\"]==party]\n",
    "    target_gender={}\n",
    "    target_gender[\"Party\"]=party\n",
    "    try:\n",
    "         target_gender[\"Gender_target\"]=df.groupby(by=\"Target_Gender\").Ad_ID.count()[1]\n",
    "    except:\n",
    "        target_gender[\"Gender_target\"]=0\n",
    "    target_gender_data.append(target_gender)\n",
    "\n",
    "gender_targeted=pd.DataFrame(target_gender_data)"
   ]
  },
  {
   "cell_type": "code",
   "execution_count": 67,
   "metadata": {},
   "outputs": [],
   "source": [
    "# Geo targetted\n",
    "\n",
    "target_geo_data=[]\n",
    "\n",
    "for party in party_list:\n",
    "    df=ads_master[ads_master[\"Party\"]==party]\n",
    "    target_geo={}\n",
    "    target_geo[\"Party\"]=party\n",
    "    try:\n",
    "         target_geo[\"Geo_target\"]=df.groupby(by=\"Target_Geo\").Ad_ID.count()[1]\n",
    "    except:\n",
    "        target_geo[\"Geo_target\"]=0\n",
    "    target_geo_data.append(target_geo)\n",
    "\n",
    "geo_targeted=pd.DataFrame(target_geo_data)"
   ]
  },
  {
   "cell_type": "code",
   "execution_count": 68,
   "metadata": {},
   "outputs": [],
   "source": [
    "# Total_Ads\n",
    "\n",
    "all_data=[]\n",
    "\n",
    "for party in party_list:\n",
    "    df=ads_master[ads_master[\"Party\"]==party]\n",
    "    all_ads={}\n",
    "    all_ads[\"Party\"]=party\n",
    "    all_ads[\"Total_ads\"]=df.Ad_ID.count()\n",
    "    all_data.append(all_ads)\n",
    "\n",
    "all_ads_df=pd.DataFrame(all_data)"
   ]
  },
  {
   "cell_type": "code",
   "execution_count": 69,
   "metadata": {},
   "outputs": [],
   "source": [
    "# Ad_type\n",
    "\n",
    "ad_type_data=[]\n",
    "\n",
    "for party in party_list:\n",
    "    df=ads_master[ads_master[\"Party\"]==party]\n",
    "    ad_type={}\n",
    "    ad_type[\"Type\"]=df[\"Ad_Type\"].value_counts().index.tolist()\n",
    "    ad_type[\"Number_of_ads\"]=df[\"Ad_Type\"].value_counts().values.tolist()\n",
    "    ad_type[\"Party\"]=party\n",
    "    ad_type_data.append(ad_type)"
   ]
  },
  {
   "cell_type": "code",
   "execution_count": 70,
   "metadata": {},
   "outputs": [],
   "source": [
    "ad_type_df=pd.DataFrame()\n",
    "for party in ad_type_data:\n",
    "    party_df=pd.DataFrame(party)\n",
    "    ad_type_df=ad_type_df.append(party_df)"
   ]
  },
  {
   "cell_type": "code",
   "execution_count": 71,
   "metadata": {},
   "outputs": [],
   "source": [
    "ad_type_df=ad_type_df.pivot(index=\"Party\", columns=\"Type\", values=\"Number_of_ads\").reset_index().fillna(0)"
   ]
  },
  {
   "cell_type": "code",
   "execution_count": 72,
   "metadata": {},
   "outputs": [],
   "source": [
    "# Impressions\n",
    "\n",
    "impressions_data=[]\n",
    "\n",
    "for party in party_list:\n",
    "    df=ads_master[ads_master[\"Party\"]==party]\n",
    "    impressions={}\n",
    "    impressions[\"Type\"]=df[\"Impressions\"].value_counts().index.tolist()\n",
    "    impressions[\"Number_of_ads\"]=df[\"Impressions\"].value_counts().values.tolist()\n",
    "    impressions[\"Party\"]=party\n",
    "    impressions_data.append(impressions)"
   ]
  },
  {
   "cell_type": "code",
   "execution_count": 73,
   "metadata": {},
   "outputs": [],
   "source": [
    "impressions_df=pd.DataFrame()\n",
    "for party_impression in impressions_data:\n",
    "    each_party=pd.DataFrame(party_impression)\n",
    "    impressions_df=impressions_df.append(each_party)"
   ]
  },
  {
   "cell_type": "code",
   "execution_count": 74,
   "metadata": {},
   "outputs": [],
   "source": [
    "impressions_df=impressions_df.pivot(index=\"Party\", columns=\"Type\", values=\"Number_of_ads\").reset_index().fillna(0)"
   ]
  },
  {
   "cell_type": "code",
   "execution_count": 75,
   "metadata": {},
   "outputs": [],
   "source": [
    "# Median number of days per ad\n",
    "median_days=pd.DataFrame(ads_master.groupby(by=\"Party\").Num_of_Days.median()).reset_index()"
   ]
  },
  {
   "cell_type": "code",
   "execution_count": 76,
   "metadata": {},
   "outputs": [],
   "source": [
    "# Average period per party - diff b/w earliest start date for an ad and latest end date for an ad\n",
    "earliest_date=pd.DataFrame(ads_master.groupby(by=\"Party\").Date_Range_Start.min()).reset_index()"
   ]
  },
  {
   "cell_type": "code",
   "execution_count": 77,
   "metadata": {},
   "outputs": [],
   "source": [
    "latest_date=pd.DataFrame(ads_master.groupby(by=\"Party\").Date_Range_End.max()).reset_index()"
   ]
  },
  {
   "cell_type": "code",
   "execution_count": 78,
   "metadata": {},
   "outputs": [],
   "source": [
    "duration=earliest_date.merge(latest_date)"
   ]
  },
  {
   "cell_type": "code",
   "execution_count": 79,
   "metadata": {},
   "outputs": [],
   "source": [
    "duration[\"Avg_days\"]=duration[\"Date_Range_End\"]-duration[\"Date_Range_Start\"]"
   ]
  },
  {
   "cell_type": "code",
   "execution_count": 80,
   "metadata": {},
   "outputs": [],
   "source": [
    "duration=duration[[\"Party\",\"Avg_days\"]]"
   ]
  },
  {
   "cell_type": "code",
   "execution_count": 81,
   "metadata": {},
   "outputs": [],
   "source": [
    "# Merging all of these datasets\n",
    "ad_char=all_ads_df.merge(ad_type_df, how=\"left\").merge(all_targeted, how=\"left\").merge(age_targeted, how=\"left\").merge(gender_targeted, how=\"left\").merge(geo_targeted, how=\"left\").merge(impressions_df, how=\"left\").merge(median_days, how=\"left\").merge(duration, how=\"left\")"
   ]
  },
  {
   "cell_type": "code",
   "execution_count": 82,
   "metadata": {},
   "outputs": [],
   "source": [
    "# Calculating percentages\n",
    "\n",
    "ad_char[\"Pct_image\"]=(ad_char[\"Image\"]/ad_char[\"Total_ads\"])*100\n",
    "ad_char[\"Pct_text\"]=(ad_char[\"Text\"]/ad_char[\"Total_ads\"])*100\n",
    "ad_char[\"Pct_video\"]=(ad_char[\"Video\"]/ad_char[\"Total_ads\"])*100\n",
    "\n",
    "\n",
    "ad_char[\"Pct_targeted\"]=(ad_char[\"Ads_target\"]/ad_char[\"Total_ads\"])*100\n",
    "\n",
    "ad_char[\"Subset_Age_pct\"]=(ad_char[\"Age_target\"]/ad_char[\"Ads_target\"])*100\n",
    "ad_char[\"Subset_Gender_pct\"]=(ad_char[\"Gender_target\"]/ad_char[\"Ads_target\"])*100\n",
    "ad_char[\"Subset_Geo_pct\"]=(ad_char[\"Geo_target\"]/ad_char[\"Ads_target\"])*100\n",
    "\n",
    "\n",
    "ad_char[\"Pct_100k-1M\"]=ad_char[\"100k-1M\"]/ad_char[\"Total_ads\"]*100\n",
    "ad_char[\"Pct_10k-100k_pct\"]=ad_char[\"10k-100k\"]/ad_char[\"Total_ads\"]*100\n",
    "ad_char[\"Pct_1M-10M\"]=ad_char[\"1M-10M\"]/ad_char[\"Total_ads\"]*100\n",
    "ad_char[\"Pct_> 10M\"]=ad_char[\"> 10M\"]/ad_char[\"Total_ads\"]*100\n",
    "ad_char[\"Pct_≤ 10k\"]=ad_char[\"≤ 10k\"]/ad_char[\"Total_ads\"]*100"
   ]
  },
  {
   "cell_type": "code",
   "execution_count": 83,
   "metadata": {},
   "outputs": [],
   "source": [
    "ad_char_2=ad_char.drop(columns=[\"Image\", \"Text\", \"Video\", \"Ads_target\", \"Age_target\", \"Gender_target\", \"Geo_target\", \"100k-1M\", \"10k-100k\",\"1M-10M\",\"> 10M\", \"≤ 10k\"])"
   ]
  },
  {
   "cell_type": "code",
   "execution_count": 84,
   "metadata": {},
   "outputs": [
    {
     "name": "stderr",
     "output_type": "stream",
     "text": [
      "C:\\Users\\Anuja\\AppData\\Local\\Programs\\Python\\Python37-32\\lib\\site-packages\\ipykernel_launcher.py:2: FutureWarning: Passing integers to fillna is deprecated, will raise a TypeError in a future version.  To retain the old behavior, pass pd.Timedelta(seconds=n) instead.\n",
      "  \n"
     ]
    }
   ],
   "source": [
    "# Merging in the spending and violations datasets generated above\n",
    "all_data=ad_char_2.merge(total_spend, how=\"outer\").merge(violations_party, how=\"outer\").fillna(0)"
   ]
  },
  {
   "cell_type": "code",
   "execution_count": 85,
   "metadata": {},
   "outputs": [
    {
     "data": {
      "text/html": [
       "<div>\n",
       "<style scoped>\n",
       "    .dataframe tbody tr th:only-of-type {\n",
       "        vertical-align: middle;\n",
       "    }\n",
       "\n",
       "    .dataframe tbody tr th {\n",
       "        vertical-align: top;\n",
       "    }\n",
       "\n",
       "    .dataframe thead th {\n",
       "        text-align: right;\n",
       "    }\n",
       "</style>\n",
       "<table border=\"1\" class=\"dataframe\">\n",
       "  <thead>\n",
       "    <tr style=\"text-align: right;\">\n",
       "      <th></th>\n",
       "      <th>Party</th>\n",
       "      <th>Total_ads</th>\n",
       "      <th>Num_of_Days</th>\n",
       "      <th>Avg_days</th>\n",
       "      <th>Pct_image</th>\n",
       "      <th>Pct_text</th>\n",
       "      <th>Pct_video</th>\n",
       "      <th>Pct_targeted</th>\n",
       "      <th>Subset_Age_pct</th>\n",
       "      <th>Subset_Gender_pct</th>\n",
       "      <th>Subset_Geo_pct</th>\n",
       "      <th>Pct_100k-1M</th>\n",
       "      <th>Pct_10k-100k_pct</th>\n",
       "      <th>Pct_1M-10M</th>\n",
       "      <th>Pct_&gt; 10M</th>\n",
       "      <th>Pct_≤ 10k</th>\n",
       "      <th>Spend_INR</th>\n",
       "      <th>Policy_violations</th>\n",
       "    </tr>\n",
       "  </thead>\n",
       "  <tbody>\n",
       "    <tr>\n",
       "      <th>0</th>\n",
       "      <td>JSP</td>\n",
       "      <td>2</td>\n",
       "      <td>4</td>\n",
       "      <td>11 days</td>\n",
       "      <td>0.000000</td>\n",
       "      <td>0.000000</td>\n",
       "      <td>100.000000</td>\n",
       "      <td>100.000000</td>\n",
       "      <td>100.000000</td>\n",
       "      <td>100.000000</td>\n",
       "      <td>100.000000</td>\n",
       "      <td>0.000000</td>\n",
       "      <td>50.000000</td>\n",
       "      <td>0.000000</td>\n",
       "      <td>0.000000</td>\n",
       "      <td>50.000000</td>\n",
       "      <td>27000</td>\n",
       "      <td>0.0</td>\n",
       "    </tr>\n",
       "    <tr>\n",
       "      <th>1</th>\n",
       "      <td>YSRCP</td>\n",
       "      <td>291</td>\n",
       "      <td>5</td>\n",
       "      <td>24 days</td>\n",
       "      <td>76.975945</td>\n",
       "      <td>0.000000</td>\n",
       "      <td>23.024055</td>\n",
       "      <td>30.584192</td>\n",
       "      <td>73.033708</td>\n",
       "      <td>82.022472</td>\n",
       "      <td>91.011236</td>\n",
       "      <td>31.615120</td>\n",
       "      <td>23.367698</td>\n",
       "      <td>19.243986</td>\n",
       "      <td>4.467354</td>\n",
       "      <td>21.305842</td>\n",
       "      <td>22698750</td>\n",
       "      <td>31.0</td>\n",
       "    </tr>\n",
       "    <tr>\n",
       "      <th>2</th>\n",
       "      <td>INC</td>\n",
       "      <td>615</td>\n",
       "      <td>4</td>\n",
       "      <td>97 days</td>\n",
       "      <td>68.780488</td>\n",
       "      <td>2.276423</td>\n",
       "      <td>28.943089</td>\n",
       "      <td>24.878049</td>\n",
       "      <td>79.084967</td>\n",
       "      <td>77.124183</td>\n",
       "      <td>97.385621</td>\n",
       "      <td>34.471545</td>\n",
       "      <td>34.146341</td>\n",
       "      <td>9.268293</td>\n",
       "      <td>2.113821</td>\n",
       "      <td>20.000000</td>\n",
       "      <td>30732000</td>\n",
       "      <td>101.0</td>\n",
       "    </tr>\n",
       "    <tr>\n",
       "      <th>3</th>\n",
       "      <td>TDP</td>\n",
       "      <td>310</td>\n",
       "      <td>5</td>\n",
       "      <td>19 days</td>\n",
       "      <td>68.387097</td>\n",
       "      <td>0.000000</td>\n",
       "      <td>31.612903</td>\n",
       "      <td>28.387097</td>\n",
       "      <td>62.500000</td>\n",
       "      <td>62.500000</td>\n",
       "      <td>100.000000</td>\n",
       "      <td>23.225806</td>\n",
       "      <td>16.451613</td>\n",
       "      <td>22.258065</td>\n",
       "      <td>5.161290</td>\n",
       "      <td>32.903226</td>\n",
       "      <td>45808250</td>\n",
       "      <td>35.0</td>\n",
       "    </tr>\n",
       "    <tr>\n",
       "      <th>4</th>\n",
       "      <td>DMK</td>\n",
       "      <td>266</td>\n",
       "      <td>3</td>\n",
       "      <td>9 days</td>\n",
       "      <td>73.308271</td>\n",
       "      <td>0.000000</td>\n",
       "      <td>26.691729</td>\n",
       "      <td>13.909774</td>\n",
       "      <td>48.648649</td>\n",
       "      <td>51.351351</td>\n",
       "      <td>100.000000</td>\n",
       "      <td>14.661654</td>\n",
       "      <td>16.541353</td>\n",
       "      <td>23.684211</td>\n",
       "      <td>0.375940</td>\n",
       "      <td>44.736842</td>\n",
       "      <td>40062000</td>\n",
       "      <td>6.0</td>\n",
       "    </tr>\n",
       "    <tr>\n",
       "      <th>5</th>\n",
       "      <td>AITC</td>\n",
       "      <td>315</td>\n",
       "      <td>17</td>\n",
       "      <td>42 days</td>\n",
       "      <td>48.571429</td>\n",
       "      <td>0.000000</td>\n",
       "      <td>51.428571</td>\n",
       "      <td>52.063492</td>\n",
       "      <td>98.170732</td>\n",
       "      <td>98.170732</td>\n",
       "      <td>100.000000</td>\n",
       "      <td>41.587302</td>\n",
       "      <td>26.666667</td>\n",
       "      <td>17.142857</td>\n",
       "      <td>1.269841</td>\n",
       "      <td>13.333333</td>\n",
       "      <td>10058500</td>\n",
       "      <td>1.0</td>\n",
       "    </tr>\n",
       "    <tr>\n",
       "      <th>6</th>\n",
       "      <td>BJP</td>\n",
       "      <td>9920</td>\n",
       "      <td>4</td>\n",
       "      <td>91 days</td>\n",
       "      <td>98.356855</td>\n",
       "      <td>0.020161</td>\n",
       "      <td>1.622984</td>\n",
       "      <td>11.602823</td>\n",
       "      <td>4.952215</td>\n",
       "      <td>4.691573</td>\n",
       "      <td>100.000000</td>\n",
       "      <td>7.993952</td>\n",
       "      <td>16.854839</td>\n",
       "      <td>2.731855</td>\n",
       "      <td>0.423387</td>\n",
       "      <td>71.995968</td>\n",
       "      <td>122359750</td>\n",
       "      <td>28.0</td>\n",
       "    </tr>\n",
       "    <tr>\n",
       "      <th>7</th>\n",
       "      <td>MNM</td>\n",
       "      <td>2</td>\n",
       "      <td>1</td>\n",
       "      <td>0 days</td>\n",
       "      <td>0.000000</td>\n",
       "      <td>0.000000</td>\n",
       "      <td>100.000000</td>\n",
       "      <td>100.000000</td>\n",
       "      <td>100.000000</td>\n",
       "      <td>100.000000</td>\n",
       "      <td>100.000000</td>\n",
       "      <td>100.000000</td>\n",
       "      <td>0.000000</td>\n",
       "      <td>0.000000</td>\n",
       "      <td>0.000000</td>\n",
       "      <td>0.000000</td>\n",
       "      <td>80000</td>\n",
       "      <td>0.0</td>\n",
       "    </tr>\n",
       "    <tr>\n",
       "      <th>8</th>\n",
       "      <td>AIADMK</td>\n",
       "      <td>37</td>\n",
       "      <td>3</td>\n",
       "      <td>6 days</td>\n",
       "      <td>59.459459</td>\n",
       "      <td>0.000000</td>\n",
       "      <td>40.540541</td>\n",
       "      <td>51.351351</td>\n",
       "      <td>78.947368</td>\n",
       "      <td>78.947368</td>\n",
       "      <td>100.000000</td>\n",
       "      <td>59.459459</td>\n",
       "      <td>16.216216</td>\n",
       "      <td>21.621622</td>\n",
       "      <td>0.000000</td>\n",
       "      <td>2.702703</td>\n",
       "      <td>1738000</td>\n",
       "      <td>0.0</td>\n",
       "    </tr>\n",
       "    <tr>\n",
       "      <th>9</th>\n",
       "      <td>AAP</td>\n",
       "      <td>9</td>\n",
       "      <td>2</td>\n",
       "      <td>1 days</td>\n",
       "      <td>0.000000</td>\n",
       "      <td>0.000000</td>\n",
       "      <td>100.000000</td>\n",
       "      <td>11.111111</td>\n",
       "      <td>0.000000</td>\n",
       "      <td>0.000000</td>\n",
       "      <td>100.000000</td>\n",
       "      <td>0.000000</td>\n",
       "      <td>33.333333</td>\n",
       "      <td>0.000000</td>\n",
       "      <td>0.000000</td>\n",
       "      <td>66.666667</td>\n",
       "      <td>6250</td>\n",
       "      <td>0.0</td>\n",
       "    </tr>\n",
       "  </tbody>\n",
       "</table>\n",
       "</div>"
      ],
      "text/plain": [
       "    Party  Total_ads  Num_of_Days Avg_days  Pct_image  Pct_text   Pct_video  \\\n",
       "0     JSP          2            4  11 days   0.000000  0.000000  100.000000   \n",
       "1   YSRCP        291            5  24 days  76.975945  0.000000   23.024055   \n",
       "2     INC        615            4  97 days  68.780488  2.276423   28.943089   \n",
       "3     TDP        310            5  19 days  68.387097  0.000000   31.612903   \n",
       "4     DMK        266            3   9 days  73.308271  0.000000   26.691729   \n",
       "5    AITC        315           17  42 days  48.571429  0.000000   51.428571   \n",
       "6     BJP       9920            4  91 days  98.356855  0.020161    1.622984   \n",
       "7     MNM          2            1   0 days   0.000000  0.000000  100.000000   \n",
       "8  AIADMK         37            3   6 days  59.459459  0.000000   40.540541   \n",
       "9     AAP          9            2   1 days   0.000000  0.000000  100.000000   \n",
       "\n",
       "   Pct_targeted  Subset_Age_pct  Subset_Gender_pct  Subset_Geo_pct  \\\n",
       "0    100.000000      100.000000         100.000000      100.000000   \n",
       "1     30.584192       73.033708          82.022472       91.011236   \n",
       "2     24.878049       79.084967          77.124183       97.385621   \n",
       "3     28.387097       62.500000          62.500000      100.000000   \n",
       "4     13.909774       48.648649          51.351351      100.000000   \n",
       "5     52.063492       98.170732          98.170732      100.000000   \n",
       "6     11.602823        4.952215           4.691573      100.000000   \n",
       "7    100.000000      100.000000         100.000000      100.000000   \n",
       "8     51.351351       78.947368          78.947368      100.000000   \n",
       "9     11.111111        0.000000           0.000000      100.000000   \n",
       "\n",
       "   Pct_100k-1M  Pct_10k-100k_pct  Pct_1M-10M  Pct_> 10M  Pct_≤ 10k  Spend_INR  \\\n",
       "0     0.000000         50.000000    0.000000   0.000000  50.000000      27000   \n",
       "1    31.615120         23.367698   19.243986   4.467354  21.305842   22698750   \n",
       "2    34.471545         34.146341    9.268293   2.113821  20.000000   30732000   \n",
       "3    23.225806         16.451613   22.258065   5.161290  32.903226   45808250   \n",
       "4    14.661654         16.541353   23.684211   0.375940  44.736842   40062000   \n",
       "5    41.587302         26.666667   17.142857   1.269841  13.333333   10058500   \n",
       "6     7.993952         16.854839    2.731855   0.423387  71.995968  122359750   \n",
       "7   100.000000          0.000000    0.000000   0.000000   0.000000      80000   \n",
       "8    59.459459         16.216216   21.621622   0.000000   2.702703    1738000   \n",
       "9     0.000000         33.333333    0.000000   0.000000  66.666667       6250   \n",
       "\n",
       "   Policy_violations  \n",
       "0                0.0  \n",
       "1               31.0  \n",
       "2              101.0  \n",
       "3               35.0  \n",
       "4                6.0  \n",
       "5                1.0  \n",
       "6               28.0  \n",
       "7                0.0  \n",
       "8                0.0  \n",
       "9                0.0  "
      ]
     },
     "execution_count": 85,
     "metadata": {},
     "output_type": "execute_result"
    }
   ],
   "source": [
    "all_data"
   ]
  },
  {
   "cell_type": "markdown",
   "metadata": {},
   "source": [
    "#### The End!"
   ]
  }
 ],
 "metadata": {
  "kernelspec": {
   "display_name": "Python 3",
   "language": "python",
   "name": "python3"
  },
  "language_info": {
   "codemirror_mode": {
    "name": "ipython",
    "version": 3
   },
   "file_extension": ".py",
   "mimetype": "text/x-python",
   "name": "python",
   "nbconvert_exporter": "python",
   "pygments_lexer": "ipython3",
   "version": "3.7.3"
  }
 },
 "nbformat": 4,
 "nbformat_minor": 2
}
